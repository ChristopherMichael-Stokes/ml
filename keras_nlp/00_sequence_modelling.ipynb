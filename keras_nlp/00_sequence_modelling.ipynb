{
 "cells": [
  {
   "cell_type": "markdown",
   "metadata": {},
   "source": [
    "# Project 1 - Smartwatch gesture classification\n",
    "\n",
    "Mini project idea - would like to try some sequence modelling on this smartwatch gesture dataset.\n",
    "\n",
    "The paper implements a custom algorithm for this, but would be interesting to see the performance of rnn based models in terms of generalisation + flops (running on an edge device so needs to be low).\n",
    "\n",
    "- https://www.tensorflow.org/datasets/catalog/smartwatch_gestures\n",
    "- https://tev.fbk.eu/resources/smartwatch\n",
    "- https://www.eurasip.org/Proceedings/Eusipco/Eusipco2014/HTML/papers/1569922319.pdf"
   ]
  },
  {
   "cell_type": "markdown",
   "metadata": {},
   "source": []
  }
 ],
 "metadata": {
  "language_info": {
   "name": "python"
  }
 },
 "nbformat": 4,
 "nbformat_minor": 2
}
