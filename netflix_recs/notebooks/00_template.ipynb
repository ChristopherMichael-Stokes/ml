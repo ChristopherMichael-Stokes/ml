{
 "cells": [
  {
   "cell_type": "code",
   "execution_count": null,
   "metadata": {},
   "outputs": [],
   "source": [
    "import pandas as pd\n",
    "import openpyxl as opx\n",
    "import os\n",
    "\n",
    "from pathlib import Path\n",
    "from src.data.make_dataset import NETFLIX_DATA"
   ]
  },
  {
   "cell_type": "code",
   "execution_count": null,
   "metadata": {},
   "outputs": [],
   "source": [
    "project_dir = Path(os.getcwd()).parent.absolute()\n",
    "data_dir = project_dir / \"data\"\n",
    "raw_dir = data_dir / \"raw\"\n",
    "external_dir = data_dir / \"external\"\n",
    "processed_dir = data_dir / \"processed\"\n",
    "\n",
    "data_dir.mkdir(exist_ok=True)\n",
    "raw_dir.mkdir(exist_ok=True)\n",
    "external_dir.mkdir(exist_ok=True)\n",
    "processed_dir.mkdir(exist_ok=True)"
   ]
  },
  {
   "cell_type": "code",
   "execution_count": null,
   "metadata": {
    "notebookRunGroups": {
     "groupValue": ""
    },
    "tags": [
     "parameters"
    ]
   },
   "outputs": [],
   "source": [
    "# Parameters\n",
    "raw_data = raw_dir / NETFLIX_DATA\n",
    "data = processed_dir / 'netflix_views_raw.pq'"
   ]
  },
  {
   "cell_type": "code",
   "execution_count": null,
   "metadata": {},
   "outputs": [],
   "source": []
  }
 ],
 "metadata": {
  "kernelspec": {
   "display_name": "ai",
   "language": "python",
   "name": "python3"
  },
  "language_info": {
   "codemirror_mode": {
    "name": "ipython",
    "version": 3
   },
   "file_extension": ".py",
   "mimetype": "text/x-python",
   "name": "python",
   "nbconvert_exporter": "python",
   "pygments_lexer": "ipython3",
   "version": "3.11.8"
  }
 },
 "nbformat": 4,
 "nbformat_minor": 2
}
